{
 "cells": [
  {
   "cell_type": "code",
   "execution_count": null,
   "id": "b648ec1e-e5e9-4c86-a101-a9627b84c4e3",
   "metadata": {
    "tags": []
   },
   "outputs": [],
   "source": [
    "import ROOT"
   ]
  },
  {
   "cell_type": "code",
   "execution_count": 2,
   "id": "cea3b2e4-0164-4e5d-9ed5-576126afd600",
   "metadata": {
    "tags": []
   },
   "outputs": [],
   "source": [
    "import uproot\n",
    "import numpy as np\n",
    "from array import array\n",
    "import matplotlib.pyplot as plt\n",
    "from ipywidgets import interact, widgets\n",
    "import pandas as pd"
   ]
  },
  {
   "cell_type": "code",
   "execution_count": 6,
   "id": "44bf3a76-2696-4a03-a4c4-57ed3dd128cd",
   "metadata": {
    "tags": []
   },
   "outputs": [
    {
     "data": {
      "application/vnd.jupyter.widget-view+json": {
       "model_id": "fccfb214f4ed48d58e24befe9eb37633",
       "version_major": 2,
       "version_minor": 0
      },
      "text/plain": [
       "Dropdown(description='Select tree:', layout=Layout(width='max-content'), options=('cafTree;1', 'globalTree;1',…"
      ]
     },
     "execution_count": 6,
     "metadata": {},
     "output_type": "execute_result"
    }
   ],
   "source": [
    "# Open the ROOT file\n",
    "filename = \"/global/cfs/cdirs/dune/www/data/2x2/simulation/productions/MiniRun5_1E19_RHC/MiniRun5_1E19_RHC.caf.beta1/CAF.flat/0000000/MiniRun5_1E19_RHC.caf.0000999.CAF.flat.root\"\n",
    "caf_file = uproot.open(filename)\n",
    "trees = caf_file.keys()\n",
    "drop_down_tree = widgets.Dropdown(options=trees,\n",
    "                                description='Tree:',\n",
    "                                disabled=False,\n",
    "                                layout={'width': 'max-content'})\n",
    "drop_down_tree"
   ]
  },
  {
   "cell_type": "code",
   "execution_count": 10,
   "id": "484955f6-3b39-49d8-aeff-98c819cf7da3",
   "metadata": {},
   "outputs": [
    {
     "data": {
      "application/vnd.jupyter.widget-view+json": {
       "model_id": "fe2ed50a614847f5b88ab6e3e33c6054",
       "version_major": 2,
       "version_minor": 0
      },
      "text/plain": [
       "Dropdown(description='Branch:', options=('rec.beam.deltapulsetimensec', 'rec.beam.gpspulsetimensec', 'rec.beam…"
      ]
     },
     "execution_count": 10,
     "metadata": {},
     "output_type": "execute_result"
    }
   ],
   "source": [
    "# Access the TTree\n",
    "caf_tree = caf_file[drop_down_tree.value]\n",
    "branches = caf_tree.keys() \n",
    "drop_down_branch = widgets.Dropdown(options=branches,\n",
    "                                description='Branch:',\n",
    "                                disabled=False)\n",
    "drop_down_branch"
   ]
  },
  {
   "cell_type": "code",
   "execution_count": 11,
   "id": "6c12912e-0122-42ac-b30e-fafba6c4e086",
   "metadata": {
    "tags": []
   },
   "outputs": [],
   "source": [
    "# Create an empty dictionary to store branch data\n",
    "caf_data_dict = {}"
   ]
  },
  {
   "cell_type": "code",
   "execution_count": 38,
   "id": "b62c5046-ebdb-4ce4-bc6e-24dd5d35cdae",
   "metadata": {
    "tags": []
   },
   "outputs": [],
   "source": [
    "# Iterate over the branch names in the TTree\n",
    "for branch_name in branches:\n",
    "    # Use branch_name as the key and fetch the data using .array()\n",
    "    caf_data_dict[branch_name] = caf_tree[branch_name].array(library=\"np\")"
   ]
  },
  {
   "cell_type": "code",
   "execution_count": 12,
   "id": "d52f2532-9c81-4d55-8b6e-b53044303600",
   "metadata": {
    "tags": []
   },
   "outputs": [],
   "source": [
    "# Create a Pandas DataFrame from the dictionary\n",
    "df = pd.DataFrame(caf_data_dict)"
   ]
  },
  {
   "cell_type": "code",
   "execution_count": 42,
   "id": "aec5f513-da99-4326-b594-58c99f44b794",
   "metadata": {
    "tags": []
   },
   "outputs": [],
   "source": [
    "#unpack reco vertex x\n",
    "flattened_data_reco = df['rec.common.ixn.dlp.vtx.x'].apply(lambda x: [val for val in x if not np.isnan(val)]).tolist()\n",
    "flattened_data_reco = [val for sublist in flattened_data_reco for val in sublist]"
   ]
  },
  {
   "cell_type": "code",
   "execution_count": 43,
   "id": "88df0f97-ee63-4f58-8d16-ea50d5d99049",
   "metadata": {
    "tags": []
   },
   "outputs": [],
   "source": [
    "#unpack truth vertex x\n",
    "flattened_data_truth = df['rec.mc.nu.vtx.x'].apply(lambda x: [val for val in x if not np.isnan(val)]).tolist()\n",
    "flattened_data_truth = [val for sublist in flattened_data_truth for val in sublist]"
   ]
  },
  {
   "cell_type": "code",
   "execution_count": 47,
   "id": "5ae4b4c6-13f3-4e6e-9cdb-9b8eb9b3b035",
   "metadata": {
    "tags": []
   },
   "outputs": [
    {
     "data": {
      "text/plain": [
       "Text(0.5, 0, 'Interaction vertex x [cm]')"
      ]
     },
     "execution_count": 47,
     "metadata": {},
     "output_type": "execute_result"
    },
    {
     "data": {
      "image/png": "[encoded data removed]",
      "text/plain": [
       "<Figure size 640x480 with 1 Axes>"
      ]
     },
     "metadata": {},
     "output_type": "display_data"
    }
   ],
   "source": [
    "plt.hist(flattened_data_reco, bins=100, alpha=0.5, label = 'reco')\n",
    "plt.hist(flattened_data_truth, bins=100, alpha=0.5, label='truth')\n",
    "plt.legend()\n",
    "plt.title('Reco vs True interaction vertex')\n",
    "plt.ylabel('No. of interactions')\n",
    "plt.xlabel('Interaction vertex x [cm]')"
   ]
  },
  {
   "cell_type": "code",
   "execution_count": null,
   "id": "09941df6-90d0-4f4a-9ea8-78590b706b20",
   "metadata": {},
   "outputs": [],
   "source": []
  }
 ],
 "metadata": {
  "kernelspec": {
   "display_name": "cernroot",
   "language": "python",
   "name": "cernroot"
  },
  "language_info": {
   "codemirror_mode": {
    "name": "ipython",
    "version": 3
   },
   "file_extension": ".py",
   "mimetype": "text/x-python",
   "name": "python",
   "nbconvert_exporter": "python",
   "pygments_lexer": "ipython3",
   "version": "3.11.9"
  }
 },
 "nbformat": 4,
 "nbformat_minor": 5
}
